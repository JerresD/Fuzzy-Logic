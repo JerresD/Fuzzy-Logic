{
 "cells": [
  {
   "cell_type": "code",
   "execution_count": 1,
   "metadata": {},
   "outputs": [],
   "source": [
    "#reference:\n",
    "#https://pythonhosted.org/scikit-fuzzy/auto_examples/plot_tipping_problem_newapi.html\n",
    "\n",
    "import numpy as np\n",
    "import pandas as pd\n",
    "ctg = pd.read_csv('ctg.csv', sep=';')"
   ]
  },
  {
   "cell_type": "code",
   "execution_count": 2,
   "metadata": {},
   "outputs": [],
   "source": [
    "ctg_pd = pd.DataFrame(ctg)"
   ]
  },
  {
   "cell_type": "code",
   "execution_count": 3,
   "metadata": {},
   "outputs": [
    {
     "name": "stdout",
     "output_type": "stream",
     "text": [
      "Index(['LB', 'AC', 'FM', 'UC', 'ASTV', 'MSTV', 'ALTV', 'MLTV', 'DL', 'DS',\n",
      "       'DP', 'Width', 'Min', 'Max', 'Nmax', 'Nzeros', 'Mode', 'Mean', 'Median',\n",
      "       'Variance', 'Tendency', 'CLASS', 'NSP'],\n",
      "      dtype='object')\n",
      "(2129, 23)\n"
     ]
    }
   ],
   "source": [
    "print(ctg_pd.keys())\n",
    "print(ctg_pd.shape)"
   ]
  },
  {
   "cell_type": "code",
   "execution_count": 23,
   "metadata": {},
   "outputs": [
    {
     "data": {
      "text/html": [
       "<div>\n",
       "<style scoped>\n",
       "    .dataframe tbody tr th:only-of-type {\n",
       "        vertical-align: middle;\n",
       "    }\n",
       "\n",
       "    .dataframe tbody tr th {\n",
       "        vertical-align: top;\n",
       "    }\n",
       "\n",
       "    .dataframe thead th {\n",
       "        text-align: right;\n",
       "    }\n",
       "</style>\n",
       "<table border=\"1\" class=\"dataframe\">\n",
       "  <thead>\n",
       "    <tr style=\"text-align: right;\">\n",
       "      <th></th>\n",
       "      <th>LB</th>\n",
       "      <th>AC</th>\n",
       "      <th>FM</th>\n",
       "      <th>UC</th>\n",
       "      <th>ASTV</th>\n",
       "      <th>MSTV</th>\n",
       "      <th>ALTV</th>\n",
       "      <th>MLTV</th>\n",
       "      <th>DL</th>\n",
       "      <th>DS</th>\n",
       "      <th>...</th>\n",
       "      <th>Nmax</th>\n",
       "      <th>Nzeros</th>\n",
       "      <th>Mode</th>\n",
       "      <th>Mean</th>\n",
       "      <th>Median</th>\n",
       "      <th>Variance</th>\n",
       "      <th>Tendency</th>\n",
       "      <th>CLASS</th>\n",
       "      <th>NSP</th>\n",
       "      <th>target</th>\n",
       "    </tr>\n",
       "  </thead>\n",
       "  <tbody>\n",
       "    <tr>\n",
       "      <th>0</th>\n",
       "      <td>120.0</td>\n",
       "      <td>0.0</td>\n",
       "      <td>0.0</td>\n",
       "      <td>0.0</td>\n",
       "      <td>73.0</td>\n",
       "      <td>0.5</td>\n",
       "      <td>43.0</td>\n",
       "      <td>2.4</td>\n",
       "      <td>0.0</td>\n",
       "      <td>0.0</td>\n",
       "      <td>...</td>\n",
       "      <td>2.0</td>\n",
       "      <td>0.0</td>\n",
       "      <td>120.0</td>\n",
       "      <td>137.0</td>\n",
       "      <td>121.0</td>\n",
       "      <td>73.0</td>\n",
       "      <td>1.0</td>\n",
       "      <td>9.0</td>\n",
       "      <td>2.0</td>\n",
       "      <td>2.0</td>\n",
       "    </tr>\n",
       "    <tr>\n",
       "      <th>1</th>\n",
       "      <td>132.0</td>\n",
       "      <td>4.0</td>\n",
       "      <td>0.0</td>\n",
       "      <td>4.0</td>\n",
       "      <td>17.0</td>\n",
       "      <td>2.1</td>\n",
       "      <td>0.0</td>\n",
       "      <td>10.4</td>\n",
       "      <td>2.0</td>\n",
       "      <td>0.0</td>\n",
       "      <td>...</td>\n",
       "      <td>6.0</td>\n",
       "      <td>1.0</td>\n",
       "      <td>141.0</td>\n",
       "      <td>136.0</td>\n",
       "      <td>140.0</td>\n",
       "      <td>12.0</td>\n",
       "      <td>0.0</td>\n",
       "      <td>6.0</td>\n",
       "      <td>1.0</td>\n",
       "      <td>1.0</td>\n",
       "    </tr>\n",
       "    <tr>\n",
       "      <th>2</th>\n",
       "      <td>133.0</td>\n",
       "      <td>2.0</td>\n",
       "      <td>0.0</td>\n",
       "      <td>5.0</td>\n",
       "      <td>16.0</td>\n",
       "      <td>2.1</td>\n",
       "      <td>0.0</td>\n",
       "      <td>13.4</td>\n",
       "      <td>2.0</td>\n",
       "      <td>0.0</td>\n",
       "      <td>...</td>\n",
       "      <td>5.0</td>\n",
       "      <td>1.0</td>\n",
       "      <td>141.0</td>\n",
       "      <td>135.0</td>\n",
       "      <td>138.0</td>\n",
       "      <td>13.0</td>\n",
       "      <td>0.0</td>\n",
       "      <td>6.0</td>\n",
       "      <td>1.0</td>\n",
       "      <td>1.0</td>\n",
       "    </tr>\n",
       "    <tr>\n",
       "      <th>3</th>\n",
       "      <td>134.0</td>\n",
       "      <td>2.0</td>\n",
       "      <td>0.0</td>\n",
       "      <td>6.0</td>\n",
       "      <td>16.0</td>\n",
       "      <td>2.4</td>\n",
       "      <td>0.0</td>\n",
       "      <td>23.0</td>\n",
       "      <td>2.0</td>\n",
       "      <td>0.0</td>\n",
       "      <td>...</td>\n",
       "      <td>11.0</td>\n",
       "      <td>0.0</td>\n",
       "      <td>137.0</td>\n",
       "      <td>134.0</td>\n",
       "      <td>137.0</td>\n",
       "      <td>13.0</td>\n",
       "      <td>1.0</td>\n",
       "      <td>6.0</td>\n",
       "      <td>1.0</td>\n",
       "      <td>1.0</td>\n",
       "    </tr>\n",
       "    <tr>\n",
       "      <th>4</th>\n",
       "      <td>132.0</td>\n",
       "      <td>4.0</td>\n",
       "      <td>0.0</td>\n",
       "      <td>5.0</td>\n",
       "      <td>16.0</td>\n",
       "      <td>2.4</td>\n",
       "      <td>0.0</td>\n",
       "      <td>19.9</td>\n",
       "      <td>0.0</td>\n",
       "      <td>0.0</td>\n",
       "      <td>...</td>\n",
       "      <td>9.0</td>\n",
       "      <td>0.0</td>\n",
       "      <td>137.0</td>\n",
       "      <td>136.0</td>\n",
       "      <td>138.0</td>\n",
       "      <td>11.0</td>\n",
       "      <td>1.0</td>\n",
       "      <td>2.0</td>\n",
       "      <td>1.0</td>\n",
       "      <td>1.0</td>\n",
       "    </tr>\n",
       "  </tbody>\n",
       "</table>\n",
       "<p>5 rows × 24 columns</p>\n",
       "</div>"
      ],
      "text/plain": [
       "      LB   AC   FM   UC  ASTV  MSTV  ALTV  MLTV   DL   DS  ...  Nmax  Nzeros  \\\n",
       "0  120.0  0.0  0.0  0.0  73.0   0.5  43.0   2.4  0.0  0.0  ...   2.0     0.0   \n",
       "1  132.0  4.0  0.0  4.0  17.0   2.1   0.0  10.4  2.0  0.0  ...   6.0     1.0   \n",
       "2  133.0  2.0  0.0  5.0  16.0   2.1   0.0  13.4  2.0  0.0  ...   5.0     1.0   \n",
       "3  134.0  2.0  0.0  6.0  16.0   2.4   0.0  23.0  2.0  0.0  ...  11.0     0.0   \n",
       "4  132.0  4.0  0.0  5.0  16.0   2.4   0.0  19.9  0.0  0.0  ...   9.0     0.0   \n",
       "\n",
       "    Mode   Mean  Median  Variance  Tendency  CLASS  NSP  target  \n",
       "0  120.0  137.0   121.0      73.0       1.0    9.0  2.0     2.0  \n",
       "1  141.0  136.0   140.0      12.0       0.0    6.0  1.0     1.0  \n",
       "2  141.0  135.0   138.0      13.0       0.0    6.0  1.0     1.0  \n",
       "3  137.0  134.0   137.0      13.0       1.0    6.0  1.0     1.0  \n",
       "4  137.0  136.0   138.0      11.0       1.0    2.0  1.0     1.0  \n",
       "\n",
       "[5 rows x 24 columns]"
      ]
     },
     "execution_count": 23,
     "metadata": {},
     "output_type": "execute_result"
    }
   ],
   "source": [
    "ctg_pd = ctg_pd.dropna()\n",
    "ctg_pd['target']=ctg.NSP\n",
    "ctg_pd.head()"
   ]
  },
  {
   "cell_type": "code",
   "execution_count": 24,
   "metadata": {
    "scrolled": true
   },
   "outputs": [
    {
     "name": "stdout",
     "output_type": "stream",
     "text": [
      "                LB           AC           FM           UC         ASTV  \\\n",
      "count  2126.000000  2126.000000  2126.000000  2126.000000  2126.000000   \n",
      "mean    133.303857     2.722484     7.241298     3.659925    46.990122   \n",
      "std       9.840844     3.560850    37.125309     2.847094    17.192814   \n",
      "min     106.000000     0.000000     0.000000     0.000000    12.000000   \n",
      "25%     126.000000     0.000000     0.000000     1.000000    32.000000   \n",
      "50%     133.000000     1.000000     0.000000     3.000000    49.000000   \n",
      "75%     140.000000     4.000000     2.000000     5.000000    61.000000   \n",
      "max     160.000000    26.000000   564.000000    23.000000    87.000000   \n",
      "\n",
      "              MSTV        ALTV         MLTV           DL           DS  ...  \\\n",
      "count  2126.000000  2126.00000  2126.000000  2126.000000  2126.000000  ...   \n",
      "mean      1.332785     9.84666     8.187629     1.570085     0.003293  ...   \n",
      "std       0.883241    18.39688     5.628247     2.499229     0.057300  ...   \n",
      "min       0.200000     0.00000     0.000000     0.000000     0.000000  ...   \n",
      "25%       0.700000     0.00000     4.600000     0.000000     0.000000  ...   \n",
      "50%       1.200000     0.00000     7.400000     0.000000     0.000000  ...   \n",
      "75%       1.700000    11.00000    10.800000     3.000000     0.000000  ...   \n",
      "max       7.000000    91.00000    50.700000    16.000000     1.000000  ...   \n",
      "\n",
      "              Nmax       Nzeros         Mode         Mean       Median  \\\n",
      "count  2126.000000  2126.000000  2126.000000  2126.000000  2126.000000   \n",
      "mean      4.068203     0.323612   137.452023   134.610536   138.090310   \n",
      "std       2.949386     0.706059    16.381289    15.593596    14.466589   \n",
      "min       0.000000     0.000000    60.000000    73.000000    77.000000   \n",
      "25%       2.000000     0.000000   129.000000   125.000000   129.000000   \n",
      "50%       3.000000     0.000000   139.000000   136.000000   139.000000   \n",
      "75%       6.000000     0.000000   148.000000   145.000000   148.000000   \n",
      "max      18.000000    10.000000   187.000000   182.000000   186.000000   \n",
      "\n",
      "          Variance     Tendency        CLASS          NSP       target  \n",
      "count  2126.000000  2126.000000  2126.000000  2126.000000  2126.000000  \n",
      "mean     18.808090     0.320320     4.509878     1.304327     1.304327  \n",
      "std      28.977636     0.610829     3.026883     0.614377     0.614377  \n",
      "min       0.000000    -1.000000     1.000000     1.000000     1.000000  \n",
      "25%       2.000000     0.000000     2.000000     1.000000     1.000000  \n",
      "50%       7.000000     0.000000     4.000000     1.000000     1.000000  \n",
      "75%      24.000000     1.000000     7.000000     1.000000     1.000000  \n",
      "max     269.000000     1.000000    10.000000     3.000000     3.000000  \n",
      "\n",
      "[8 rows x 24 columns]\n",
      "<class 'pandas.core.frame.DataFrame'>\n",
      "Int64Index: 2126 entries, 0 to 2125\n",
      "Data columns (total 24 columns):\n",
      " #   Column    Non-Null Count  Dtype  \n",
      "---  ------    --------------  -----  \n",
      " 0   LB        2126 non-null   float64\n",
      " 1   AC        2126 non-null   float64\n",
      " 2   FM        2126 non-null   float64\n",
      " 3   UC        2126 non-null   float64\n",
      " 4   ASTV      2126 non-null   float64\n",
      " 5   MSTV      2126 non-null   float64\n",
      " 6   ALTV      2126 non-null   float64\n",
      " 7   MLTV      2126 non-null   float64\n",
      " 8   DL        2126 non-null   float64\n",
      " 9   DS        2126 non-null   float64\n",
      " 10  DP        2126 non-null   float64\n",
      " 11  Width     2126 non-null   float64\n",
      " 12  Min       2126 non-null   float64\n",
      " 13  Max       2126 non-null   float64\n",
      " 14  Nmax      2126 non-null   float64\n",
      " 15  Nzeros    2126 non-null   float64\n",
      " 16  Mode      2126 non-null   float64\n",
      " 17  Mean      2126 non-null   float64\n",
      " 18  Median    2126 non-null   float64\n",
      " 19  Variance  2126 non-null   float64\n",
      " 20  Tendency  2126 non-null   float64\n",
      " 21  CLASS     2126 non-null   float64\n",
      " 22  NSP       2126 non-null   float64\n",
      " 23  target    2126 non-null   float64\n",
      "dtypes: float64(24)\n",
      "memory usage: 415.2 KB\n"
     ]
    }
   ],
   "source": [
    "print(ctg_pd.describe())\n",
    "ctg_pd.info()"
   ]
  },
  {
   "cell_type": "code",
   "execution_count": 25,
   "metadata": {},
   "outputs": [],
   "source": [
    "from sklearn.feature_selection import SelectKBest, f_regression\n",
    "\n",
    "Y = ctg_pd['target'].values\n",
    "X = ctg_pd[['LB','AC','FM','UC','ASTV','MSTV','ALTV','MLTV','DL','DS','DP','Width','Min','Max','Nmax','Nzeros','Mode','Mean','Median','Variance','Tendency']]\n",
    "# ignore 'CLASS' & 'NSP' -> target variable\n",
    "\n",
    "#Check 3 of the most relevant features\n",
    "X_reg_new = SelectKBest(score_func = f_regression, k = 3).fit_transform(X,Y)"
   ]
  },
  {
   "cell_type": "code",
   "execution_count": 26,
   "metadata": {},
   "outputs": [
    {
     "data": {
      "text/plain": [
       "array([[73., 43.,  0.],\n",
       "       [17.,  0.,  0.],\n",
       "       [16.,  0.,  0.],\n",
       "       [16.,  0.,  0.],\n",
       "       [16.,  0.,  0.]])"
      ]
     },
     "execution_count": 26,
     "metadata": {},
     "output_type": "execute_result"
    }
   ],
   "source": [
    "X_reg_new[:5]"
   ]
  },
  {
   "cell_type": "code",
   "execution_count": 27,
   "metadata": {},
   "outputs": [
    {
     "data": {
      "text/html": [
       "<div>\n",
       "<style scoped>\n",
       "    .dataframe tbody tr th:only-of-type {\n",
       "        vertical-align: middle;\n",
       "    }\n",
       "\n",
       "    .dataframe tbody tr th {\n",
       "        vertical-align: top;\n",
       "    }\n",
       "\n",
       "    .dataframe thead th {\n",
       "        text-align: right;\n",
       "    }\n",
       "</style>\n",
       "<table border=\"1\" class=\"dataframe\">\n",
       "  <thead>\n",
       "    <tr style=\"text-align: right;\">\n",
       "      <th></th>\n",
       "      <th>LB</th>\n",
       "      <th>AC</th>\n",
       "      <th>FM</th>\n",
       "      <th>UC</th>\n",
       "      <th>ASTV</th>\n",
       "      <th>MSTV</th>\n",
       "      <th>ALTV</th>\n",
       "      <th>MLTV</th>\n",
       "      <th>DL</th>\n",
       "      <th>DS</th>\n",
       "      <th>...</th>\n",
       "      <th>Nmax</th>\n",
       "      <th>Nzeros</th>\n",
       "      <th>Mode</th>\n",
       "      <th>Mean</th>\n",
       "      <th>Median</th>\n",
       "      <th>Variance</th>\n",
       "      <th>Tendency</th>\n",
       "      <th>CLASS</th>\n",
       "      <th>NSP</th>\n",
       "      <th>target</th>\n",
       "    </tr>\n",
       "  </thead>\n",
       "  <tbody>\n",
       "    <tr>\n",
       "      <th>0</th>\n",
       "      <td>120.0</td>\n",
       "      <td>0.0</td>\n",
       "      <td>0.0</td>\n",
       "      <td>0.0</td>\n",
       "      <td>73.0</td>\n",
       "      <td>0.5</td>\n",
       "      <td>43.0</td>\n",
       "      <td>2.4</td>\n",
       "      <td>0.0</td>\n",
       "      <td>0.0</td>\n",
       "      <td>...</td>\n",
       "      <td>2.0</td>\n",
       "      <td>0.0</td>\n",
       "      <td>120.0</td>\n",
       "      <td>137.0</td>\n",
       "      <td>121.0</td>\n",
       "      <td>73.0</td>\n",
       "      <td>1.0</td>\n",
       "      <td>9.0</td>\n",
       "      <td>2.0</td>\n",
       "      <td>2.0</td>\n",
       "    </tr>\n",
       "    <tr>\n",
       "      <th>1</th>\n",
       "      <td>132.0</td>\n",
       "      <td>4.0</td>\n",
       "      <td>0.0</td>\n",
       "      <td>4.0</td>\n",
       "      <td>17.0</td>\n",
       "      <td>2.1</td>\n",
       "      <td>0.0</td>\n",
       "      <td>10.4</td>\n",
       "      <td>2.0</td>\n",
       "      <td>0.0</td>\n",
       "      <td>...</td>\n",
       "      <td>6.0</td>\n",
       "      <td>1.0</td>\n",
       "      <td>141.0</td>\n",
       "      <td>136.0</td>\n",
       "      <td>140.0</td>\n",
       "      <td>12.0</td>\n",
       "      <td>0.0</td>\n",
       "      <td>6.0</td>\n",
       "      <td>1.0</td>\n",
       "      <td>1.0</td>\n",
       "    </tr>\n",
       "    <tr>\n",
       "      <th>2</th>\n",
       "      <td>133.0</td>\n",
       "      <td>2.0</td>\n",
       "      <td>0.0</td>\n",
       "      <td>5.0</td>\n",
       "      <td>16.0</td>\n",
       "      <td>2.1</td>\n",
       "      <td>0.0</td>\n",
       "      <td>13.4</td>\n",
       "      <td>2.0</td>\n",
       "      <td>0.0</td>\n",
       "      <td>...</td>\n",
       "      <td>5.0</td>\n",
       "      <td>1.0</td>\n",
       "      <td>141.0</td>\n",
       "      <td>135.0</td>\n",
       "      <td>138.0</td>\n",
       "      <td>13.0</td>\n",
       "      <td>0.0</td>\n",
       "      <td>6.0</td>\n",
       "      <td>1.0</td>\n",
       "      <td>1.0</td>\n",
       "    </tr>\n",
       "    <tr>\n",
       "      <th>3</th>\n",
       "      <td>134.0</td>\n",
       "      <td>2.0</td>\n",
       "      <td>0.0</td>\n",
       "      <td>6.0</td>\n",
       "      <td>16.0</td>\n",
       "      <td>2.4</td>\n",
       "      <td>0.0</td>\n",
       "      <td>23.0</td>\n",
       "      <td>2.0</td>\n",
       "      <td>0.0</td>\n",
       "      <td>...</td>\n",
       "      <td>11.0</td>\n",
       "      <td>0.0</td>\n",
       "      <td>137.0</td>\n",
       "      <td>134.0</td>\n",
       "      <td>137.0</td>\n",
       "      <td>13.0</td>\n",
       "      <td>1.0</td>\n",
       "      <td>6.0</td>\n",
       "      <td>1.0</td>\n",
       "      <td>1.0</td>\n",
       "    </tr>\n",
       "    <tr>\n",
       "      <th>4</th>\n",
       "      <td>132.0</td>\n",
       "      <td>4.0</td>\n",
       "      <td>0.0</td>\n",
       "      <td>5.0</td>\n",
       "      <td>16.0</td>\n",
       "      <td>2.4</td>\n",
       "      <td>0.0</td>\n",
       "      <td>19.9</td>\n",
       "      <td>0.0</td>\n",
       "      <td>0.0</td>\n",
       "      <td>...</td>\n",
       "      <td>9.0</td>\n",
       "      <td>0.0</td>\n",
       "      <td>137.0</td>\n",
       "      <td>136.0</td>\n",
       "      <td>138.0</td>\n",
       "      <td>11.0</td>\n",
       "      <td>1.0</td>\n",
       "      <td>2.0</td>\n",
       "      <td>1.0</td>\n",
       "      <td>1.0</td>\n",
       "    </tr>\n",
       "  </tbody>\n",
       "</table>\n",
       "<p>5 rows × 24 columns</p>\n",
       "</div>"
      ],
      "text/plain": [
       "      LB   AC   FM   UC  ASTV  MSTV  ALTV  MLTV   DL   DS  ...  Nmax  Nzeros  \\\n",
       "0  120.0  0.0  0.0  0.0  73.0   0.5  43.0   2.4  0.0  0.0  ...   2.0     0.0   \n",
       "1  132.0  4.0  0.0  4.0  17.0   2.1   0.0  10.4  2.0  0.0  ...   6.0     1.0   \n",
       "2  133.0  2.0  0.0  5.0  16.0   2.1   0.0  13.4  2.0  0.0  ...   5.0     1.0   \n",
       "3  134.0  2.0  0.0  6.0  16.0   2.4   0.0  23.0  2.0  0.0  ...  11.0     0.0   \n",
       "4  132.0  4.0  0.0  5.0  16.0   2.4   0.0  19.9  0.0  0.0  ...   9.0     0.0   \n",
       "\n",
       "    Mode   Mean  Median  Variance  Tendency  CLASS  NSP  target  \n",
       "0  120.0  137.0   121.0      73.0       1.0    9.0  2.0     2.0  \n",
       "1  141.0  136.0   140.0      12.0       0.0    6.0  1.0     1.0  \n",
       "2  141.0  135.0   138.0      13.0       0.0    6.0  1.0     1.0  \n",
       "3  137.0  134.0   137.0      13.0       1.0    6.0  1.0     1.0  \n",
       "4  137.0  136.0   138.0      11.0       1.0    2.0  1.0     1.0  \n",
       "\n",
       "[5 rows x 24 columns]"
      ]
     },
     "execution_count": 27,
     "metadata": {},
     "output_type": "execute_result"
    }
   ],
   "source": [
    "ctg_pd.head()"
   ]
  },
  {
   "cell_type": "code",
   "execution_count": 49,
   "metadata": {},
   "outputs": [
    {
     "data": {
      "text/plain": [
       "(array([73., 17., 16., ..., 79., 78., 74.]),\n",
       " array([43.,  0.,  0., ..., 20., 27., 36.]),\n",
       " array([0., 0., 0., ..., 0., 0., 0.]))"
      ]
     },
     "execution_count": 49,
     "metadata": {},
     "output_type": "execute_result"
    }
   ],
   "source": [
    "#By comparing the output of array with the original set, we found that the relevant features are \n",
    "#ASTV (percentage of time with abnormal short term variability), ALTV (percentage of time with abnormal long term variability)\n",
    "#and DP (# of prolongued decelerations per second)\n",
    "a = ctg_pd['ASTV'].values\n",
    "b = ctg_pd['ALTV'].values\n",
    "c = ctg_pd['DP'].values\n",
    "a,b,c"
   ]
  },
  {
   "cell_type": "code",
   "execution_count": 118,
   "metadata": {},
   "outputs": [
    {
     "name": "stderr",
     "output_type": "stream",
     "text": [
      "C:\\Users\\userr\\anaconda3\\lib\\site-packages\\skfuzzy\\control\\fuzzyvariable.py:122: UserWarning: Matplotlib is currently using module://ipykernel.pylab.backend_inline, which is a non-GUI backend, so cannot show the figure.\n",
      "  fig.show()\n",
      "C:\\Users\\userr\\anaconda3\\lib\\site-packages\\skfuzzy\\control\\fuzzyvariable.py:122: UserWarning: Matplotlib is currently using module://ipykernel.pylab.backend_inline, which is a non-GUI backend, so cannot show the figure.\n",
      "  fig.show()\n",
      "C:\\Users\\userr\\anaconda3\\lib\\site-packages\\skfuzzy\\control\\fuzzyvariable.py:122: UserWarning: Matplotlib is currently using module://ipykernel.pylab.backend_inline, which is a non-GUI backend, so cannot show the figure.\n",
      "  fig.show()\n",
      "C:\\Users\\userr\\anaconda3\\lib\\site-packages\\skfuzzy\\control\\fuzzyvariable.py:122: UserWarning: Matplotlib is currently using module://ipykernel.pylab.backend_inline, which is a non-GUI backend, so cannot show the figure.\n",
      "  fig.show()\n"
     ]
    },
    {
     "data": {
      "image/png": "[encoded data removed]",
      "text/plain": [
       "<Figure size 432x288 with 1 Axes>"
      ]
     },
     "metadata": {
      "needs_background": "light"
     },
     "output_type": "display_data"
    },
    {
     "data": {
      "image/png": "[encoded data removed]",
      "text/plain": [
       "<Figure size 432x288 with 1 Axes>"
      ]
     },
     "metadata": {
      "needs_background": "light"
     },
     "output_type": "display_data"
    },
    {
     "data": {
      "image/png": "[encoded data removed]",
      "text/plain": [
       "<Figure size 432x288 with 1 Axes>"
      ]
     },
     "metadata": {
      "needs_background": "light"
     },
     "output_type": "display_data"
    },
    {
     "data": {
      "image/png": "[encoded data removed]",
      "text/plain": [
       "<Figure size 432x288 with 1 Axes>"
      ]
     },
     "metadata": {
      "needs_background": "light"
     },
     "output_type": "display_data"
    }
   ],
   "source": [
    "#fuzzy logic model\n",
    "\n",
    "import skfuzzy as fuzz\n",
    "import matplotlib.pyplot as plt\n",
    "import skfuzzy.control as ctrl\n",
    "\n",
    "# New Antecedent/Consequent objects\n",
    "x_ASTV = ctrl.Antecedent(np.arange(10, 91, 1), 'ASTV')\n",
    "x_ALTV = ctrl.Antecedent(np.arange(0, 101, 1), 'ALTV')\n",
    "x_DP = ctrl.Antecedent(np.arange(0, 5, 1), 'DP')\n",
    "x_NSP = ctrl.Consequent(np.arange(0, 5, 1), 'NSP')\n",
    "\n",
    "# Custom membership functions\n",
    "x_ASTV['low'] = fuzz.trimf(x_ASTV.universe, [10, 10, 50])\n",
    "x_ASTV['medium'] = fuzz.trimf(x_ASTV.universe, [10, 50, 90])\n",
    "x_ASTV['high'] = fuzz.trimf(x_ASTV.universe, [50, 90, 90])\n",
    "\n",
    "x_ALTV['low'] = fuzz.trimf(x_ALTV.universe, [0, 0, 50])\n",
    "x_ALTV['medium'] = fuzz.trimf(x_ALTV.universe, [0, 50, 100])\n",
    "x_ALTV['high'] = fuzz.trimf(x_ALTV.universe, [50, 100, 100])\n",
    "\n",
    "x_DP['low'] = fuzz.trimf(x_DP.universe, [0, 0, 1])\n",
    "x_DP['medium'] = fuzz.trimf(x_DP.universe, [0, 1, 2])\n",
    "x_DP['high'] = fuzz.trimf(x_DP.universe, [1, 4, 4])\n",
    "\n",
    "x_NSP['normal'] = fuzz.trimf(x_NSP.universe, [1, 1, 2])\n",
    "x_NSP['suspect'] = fuzz.trimf(x_NSP.universe, [1, 2, 3])\n",
    "x_NSP['pathologic'] = fuzz.trimf(x_NSP.universe, [2, 3, 3])\n",
    "\n",
    "x_ASTV.view()\n",
    "x_ALTV.view()\n",
    "x_DP.view()\n",
    "x_NSP.view()"
   ]
  },
  {
   "cell_type": "code",
   "execution_count": 121,
   "metadata": {},
   "outputs": [
    {
     "data": {
      "text/plain": [
       "(<Figure size 432x288 with 1 Axes>,\n",
       " <matplotlib.axes._subplots.AxesSubplot at 0x2b57d4cce48>)"
      ]
     },
     "execution_count": 121,
     "metadata": {},
     "output_type": "execute_result"
    },
    {
     "data": {
      "image/png": "[encoded data removed]",
      "text/plain": [
       "<Figure size 432x288 with 1 Axes>"
      ]
     },
     "metadata": {},
     "output_type": "display_data"
    },
    {
     "data": {
      "image/png": "[encoded data removed]",
      "text/plain": [
       "<Figure size 432x288 with 1 Axes>"
      ]
     },
     "metadata": {},
     "output_type": "display_data"
    },
    {
     "data": {
      "image/png": "[encoded data removed]",
      "text/plain": [
       "<Figure size 432x288 with 1 Axes>"
      ]
     },
     "metadata": {},
     "output_type": "display_data"
    }
   ],
   "source": [
    "#fuzzy rules\n",
    "rule1 = ctrl.Rule(antecedent = ((x_ASTV['low']   & x_ALTV['low']    & x_DP['low']) |\n",
    "                               (x_ASTV['medium'] & x_ALTV['low']    & x_DP['low']) |\n",
    "                               (x_ASTV['low']    & x_ALTV['medium'] & x_DP['low'])),\n",
    "                  consequent = x_NSP['normal'])\n",
    "\n",
    "rule2 = ctrl.Rule(antecedent = ((x_ASTV['high']  & x_ALTV['low']    & x_DP['low'])    |\n",
    "                               (x_ASTV['low']    & x_ALTV['high']   & x_DP['low'])    |\n",
    "                               (x_ASTV['medium'] & x_ALTV['medium'] & x_DP['low'])    |\n",
    "                               (x_ASTV['high']   & x_ALTV['medium'] & x_DP['low'])    |\n",
    "                               (x_ASTV['medium'] & x_ALTV['high']   & x_DP['low'])    |\n",
    "                               (x_ASTV['low']    & x_ALTV['low']    & x_DP['medium']) |\n",
    "                               (x_ASTV['medium'] & x_ALTV['low']    & x_DP['medium']) |\n",
    "                               (x_ASTV['low']    & x_ALTV['medium'] & x_DP['medium'])),\n",
    "                  consequent = x_NSP['suspect'])\n",
    "\n",
    "rule3 = ctrl.Rule(antecedent = ((x_ASTV['high']  & x_ALTV['low']    & x_DP['medium']) |\n",
    "                               (x_ASTV['low']    & x_ALTV['high']   & x_DP['medium']) |\n",
    "                               (x_ASTV['medium'] & x_ALTV['medium'] & x_DP['medium']) |\n",
    "                               (x_ASTV['high']   & x_ALTV['medium'] & x_DP['medium']) |\n",
    "                               (x_ASTV['medium'] & x_ALTV['high']   & x_DP['medium']) |\n",
    "                               (x_ASTV['low']    & x_ALTV['low']    & x_DP['high'])   |\n",
    "                               (x_ASTV['medium'] & x_ALTV['low']    & x_DP['high'])   |\n",
    "                               (x_ASTV['high']   & x_ALTV['low']    & x_DP['high'])   |\n",
    "                               (x_ASTV['low']    & x_ALTV['medium'] & x_DP['high'])   |\n",
    "                               (x_ASTV['low']    & x_ALTV['high']   & x_DP['high'])   |\n",
    "                               (x_ASTV['medium'] & x_ALTV['medium'] & x_DP['high'])   |\n",
    "                               (x_ASTV['high']   & x_ALTV['medium'] & x_DP['high'])   |\n",
    "                               (x_ASTV['medium'] & x_ALTV['high']   & x_DP['high'])   |\n",
    "                               (x_ASTV['high']   & x_ALTV['high']   & x_DP['low'])    |\n",
    "                               (x_ASTV['high']   & x_ALTV['high']   & x_DP['medium']) |\n",
    "                               (x_ASTV['high']   & x_ALTV['high']   & x_DP['high'])),\n",
    "                  consequent = x_NSP['pathologic'])\n",
    "                  \n",
    "rule1.view()\n",
    "rule2.view()\n",
    "rule3.view()"
   ]
  },
  {
   "cell_type": "code",
   "execution_count": 122,
   "metadata": {},
   "outputs": [],
   "source": [
    "system = ctrl.ControlSystem([rule1, rule2, rule3])\n",
    "simulation = ctrl.ControlSystemSimulation(system)"
   ]
  },
  {
   "cell_type": "code",
   "execution_count": 123,
   "metadata": {},
   "outputs": [],
   "source": [
    "simulation.input['ASTV'] = a  #20\n",
    "simulation.input['ALTV'] = b  #0\n",
    "simulation.input['DP'] = c    #3\n",
    "\n",
    "simulation.compute()"
   ]
  },
  {
   "cell_type": "code",
   "execution_count": 124,
   "metadata": {},
   "outputs": [
    {
     "name": "stdout",
     "output_type": "stream",
     "text": [
      "[1.77431086 1.         1.         1.         1.         3.\n",
      " 3.         1.76266042 1.78919492 1.84771474]\n",
      "[2. 1. 1. 1. 1. 3. 3. 2. 2. 2.]\n",
      "[2. 1. 1. 1. 1. 3. 3. 3. 3. 3.]\n"
     ]
    }
   ],
   "source": [
    "d = simulation.output['NSP']\n",
    "\n",
    "#original output\n",
    "print(d[:10])\n",
    "\n",
    "#rounded off output\n",
    "d = np.round(np.array(d))\n",
    "np.rint(a)\n",
    "print(d[:10])\n",
    "\n",
    "#actual target variable\n",
    "print(Y[:10])\n",
    "#x_NSP.view(sim=simulation)"
   ]
  },
  {
   "cell_type": "code",
   "execution_count": 126,
   "metadata": {},
   "outputs": [
    {
     "name": "stdout",
     "output_type": "stream",
     "text": [
      "0.8043273753527752\n",
      "[[1443  212    0]\n",
      " [ 115  177    3]\n",
      " [  16   70   90]]\n",
      "              precision    recall  f1-score   support\n",
      "\n",
      "         1.0       0.92      0.87      0.89      1655\n",
      "         2.0       0.39      0.60      0.47       295\n",
      "         3.0       0.97      0.51      0.67       176\n",
      "\n",
      "    accuracy                           0.80      2126\n",
      "   macro avg       0.76      0.66      0.68      2126\n",
      "weighted avg       0.85      0.80      0.82      2126\n",
      "\n"
     ]
    }
   ],
   "source": [
    "# d= output, Y= initial data\n",
    "# Performance of fuzzy logic model\n",
    "from sklearn.metrics import accuracy_score, confusion_matrix,classification_report, recall_score, precision_score\n",
    "print(accuracy_score(Y, d))\n",
    "print(confusion_matrix(Y, d))\n",
    "print(classification_report(Y, d))"
   ]
  },
  {
   "cell_type": "code",
   "execution_count": null,
   "metadata": {},
   "outputs": [],
   "source": []
  }
 ],
 "metadata": {
  "kernelspec": {
   "display_name": "Python 3",
   "language": "python",
   "name": "python3"
  },
  "language_info": {
   "codemirror_mode": {
    "name": "ipython",
    "version": 3
   },
   "file_extension": ".py",
   "mimetype": "text/x-python",
   "name": "python",
   "nbconvert_exporter": "python",
   "pygments_lexer": "ipython3",
   "version": "3.7.6"
  }
 },
 "nbformat": 4,
 "nbformat_minor": 4
}
